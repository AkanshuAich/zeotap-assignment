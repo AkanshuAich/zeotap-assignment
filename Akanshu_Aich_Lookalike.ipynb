{
  "nbformat": 4,
  "nbformat_minor": 0,
  "metadata": {
    "colab": {
      "provenance": []
    },
    "kernelspec": {
      "name": "python3",
      "display_name": "Python 3"
    },
    "language_info": {
      "name": "python"
    }
  },
  "cells": [
    {
      "cell_type": "code",
      "execution_count": 23,
      "metadata": {
        "id": "HSAk4QzcLLbG"
      },
      "outputs": [],
      "source": [
        "import pandas as pd\n",
        "import numpy as np\n",
        "from sklearn.preprocessing import StandardScaler\n",
        "from sklearn.cluster import KMeans\n",
        "from sklearn.metrics import davies_bouldin_score\n",
        "import matplotlib.pyplot as plt\n",
        "import seaborn as sns\n",
        "from datetime import datetime\n",
        "from sklearn.metrics.pairwise import cosine_similarity\n",
        "import warnings\n",
        "warnings.filterwarnings('ignore')"
      ]
    },
    {
      "cell_type": "code",
      "source": [
        "def load_and_prepare_data():\n",
        "    \"\"\"Load customer, product, and transaction data from Google Drive links\"\"\"\n",
        "    customers_df = pd.read_csv('https://drive.google.com/uc?id=1bu_--mo79VdUG9oin4ybfFGRUSXAe-WE&export=download')\n",
        "    products_df = pd.read_csv('https://drive.google.com/uc?id=1IKuDizVapw-hyktwfpoAoaGtHtTNHfd0&export=download')\n",
        "    transactions_df = pd.read_csv('https://drive.google.com/uc?id=1saEqdbBB-vuk2hxoAf4TzDEsykdKlzbF&export=download')\n",
        "\n",
        "    # Convert date columns to datetime\n",
        "    customers_df['SignupDate'] = pd.to_datetime(customers_df['SignupDate'])\n",
        "    transactions_df['TransactionDate'] = pd.to_datetime(transactions_df['TransactionDate'])\n",
        "\n",
        "    return customers_df, products_df, transactions_df\n"
      ],
      "metadata": {
        "id": "uA5hpdlzZZMJ"
      },
      "execution_count": 24,
      "outputs": []
    },
    {
      "cell_type": "code",
      "source": [
        "def create_customer_features(customers_df, transactions_df, products_df):\n",
        "    \"\"\"Create comprehensive feature matrix for customers\"\"\"\n",
        "    # Calculate account age\n",
        "    customers_df['AccountAge'] = (pd.Timestamp.now() - customers_df['SignupDate']).dt.days\n",
        "\n",
        "    # One-hot encode region\n",
        "    region_dummies = pd.get_dummies(customers_df['Region'], prefix='Region')\n",
        "\n",
        "    # Transaction-based features - Fixed aggregation\n",
        "    transaction_features = transactions_df.groupby('CustomerID').agg({\n",
        "        'TransactionID': 'count',\n",
        "        'Quantity': ['sum', 'mean'],\n",
        "        'TotalValue': ['sum', 'mean'],\n",
        "        'Price': 'mean'\n",
        "    })\n",
        "\n",
        "    # Flatten column names\n",
        "    transaction_features.columns = [\n",
        "        f\"{col[0]}_{col[1]}\" if col[1] else col[0]\n",
        "        for col in transaction_features.columns\n",
        "    ]\n",
        "\n",
        "    # Rename columns for clarity\n",
        "    transaction_features.columns = [\n",
        "        'TransactionCount',\n",
        "        'TotalQuantity',\n",
        "        'AvgQuantity',\n",
        "        'TotalSpend',\n",
        "        'AvgSpend',\n",
        "        'AvgPrice'\n",
        "    ]\n",
        "\n",
        "    # Fill NaN values with 0 for customers with no transactions\n",
        "    transaction_features = transaction_features.fillna(0)\n",
        "\n",
        "    # Product category preferences\n",
        "    product_categories = transactions_df.merge(products_df[['ProductID', 'Category']], on='ProductID')\n",
        "    category_pivot = pd.pivot_table(\n",
        "        product_categories,\n",
        "        values='Quantity',\n",
        "        index='CustomerID',\n",
        "        columns='Category',\n",
        "        aggfunc='sum',\n",
        "        fill_value=0\n",
        "    )\n",
        "\n",
        "    # Normalize category preferences\n",
        "    category_sums = category_pivot.sum(axis=1)\n",
        "    # Handle zero sums to avoid division by zero\n",
        "    category_sums = category_sums.replace(0, 1)\n",
        "    category_preferences = category_pivot.div(category_sums, axis=0)\n",
        "    category_preferences.columns = [f'Category_{col}' for col in category_preferences.columns]\n",
        "\n",
        "    # Combine all features\n",
        "    base_features = customers_df[['CustomerID', 'AccountAge']].set_index('CustomerID')\n",
        "\n",
        "    # Ensure all customers are included even if they have no transactions\n",
        "    all_customers = pd.DataFrame(index=customers_df['CustomerID'])\n",
        "\n",
        "    feature_matrix = pd.concat([\n",
        "        all_customers,\n",
        "        base_features,\n",
        "        region_dummies,\n",
        "        transaction_features,\n",
        "        category_preferences\n",
        "    ], axis=1)\n",
        "\n",
        "    # Fill any remaining NaN values with 0\n",
        "    feature_matrix = feature_matrix.fillna(0)\n",
        "\n",
        "    return feature_matrix"
      ],
      "metadata": {
        "id": "_0aWdJ_XZe2t"
      },
      "execution_count": 25,
      "outputs": []
    },
    {
      "cell_type": "code",
      "source": [
        "\n",
        "def calculate_similarity_matrix(feature_matrix):\n",
        "    \"\"\"Calculate similarity scores between customers\"\"\"\n",
        "    # Standardize features\n",
        "    scaler = StandardScaler()\n",
        "    scaled_features = scaler.fit_transform(feature_matrix)\n",
        "\n",
        "    # Calculate cosine similarity\n",
        "    similarity_matrix = cosine_similarity(scaled_features)\n",
        "\n",
        "    # Convert to DataFrame with customer IDs\n",
        "    similarity_df = pd.DataFrame(\n",
        "        similarity_matrix,\n",
        "        index=feature_matrix.index,\n",
        "        columns=feature_matrix.index\n",
        "    )\n",
        "\n",
        "    return similarity_df"
      ],
      "metadata": {
        "id": "TpeL_-K1Zgzw"
      },
      "execution_count": 26,
      "outputs": []
    },
    {
      "cell_type": "code",
      "source": [
        "def get_lookalikes(similarity_df, customer_id, n=3):\n",
        "    \"\"\"Get top N similar customers for a given customer ID\"\"\"\n",
        "    if customer_id not in similarity_df.index:\n",
        "        return []\n",
        "\n",
        "    # Get similarities for the customer and sort\n",
        "    customer_similarities = similarity_df[customer_id].sort_values(ascending=False)\n",
        "\n",
        "    # Remove the customer themselves and get top N\n",
        "    top_similar = customer_similarities[customer_similarities.index != customer_id][:n]\n",
        "\n",
        "    return [\n",
        "        {'customer_id': cust_id, 'similarity_score': score}\n",
        "        for cust_id, score in top_similar.items()\n",
        "    ]"
      ],
      "metadata": {
        "id": "nGXCsnOmZiqt"
      },
      "execution_count": 27,
      "outputs": []
    },
    {
      "cell_type": "code",
      "source": [
        "\n",
        "def generate_lookalike_recommendations():\n",
        "    \"\"\"Generate lookalike recommendations for customers C0001-C0020\"\"\"\n",
        "    # Load and prepare data\n",
        "    print(\"Loading data...\")\n",
        "    customers_df, products_df, transactions_df = load_and_prepare_data()\n",
        "\n",
        "    # Create feature matrix\n",
        "    print(\"Creating customer features...\")\n",
        "    feature_matrix = create_customer_features(customers_df, transactions_df, products_df)\n",
        "\n",
        "    # Calculate similarity matrix\n",
        "    print(\"Calculating similarity scores...\")\n",
        "    similarity_df = calculate_similarity_matrix(feature_matrix)\n",
        "\n",
        "    # Generate recommendations for C0001-C0020\n",
        "    print(\"Generating lookalike recommendations...\")\n",
        "    recommendations = {}\n",
        "    for i in range(1, 21):\n",
        "        customer_id = f'C{i:04d}'\n",
        "        lookalikes = get_lookalikes(similarity_df, customer_id)\n",
        "        if lookalikes:\n",
        "            recommendations[customer_id] = lookalikes\n",
        "\n",
        "    # Create output DataFrame\n",
        "    output_rows = []\n",
        "    for cust_id, lookalikes in recommendations.items():\n",
        "        lookalike_str = '|'.join(\n",
        "            f\"{rec['customer_id']}:{rec['similarity_score']:.4f}\"\n",
        "            for rec in lookalikes\n",
        "        )\n",
        "        output_rows.append({\n",
        "            'CustomerID': cust_id,\n",
        "            'Lookalikes': lookalike_str\n",
        "        })\n",
        "\n",
        "    # Save to CSV\n",
        "    output_df = pd.DataFrame(output_rows)\n",
        "    output_df.to_csv('Akanshu_Aich_Lookalike.csv', index=False)\n",
        "\n",
        "\n",
        "    # Display first few recommendations\n",
        "    print(\"\\nFirst few recommendations:\")\n",
        "    print(output_df.head())\n",
        "\n",
        "    return output_df\n",
        "\n"
      ],
      "metadata": {
        "id": "HuYGQmBHLkG7"
      },
      "execution_count": 28,
      "outputs": []
    },
    {
      "cell_type": "code",
      "source": [
        "\n",
        "recommendations = generate_lookalike_recommendations()"
      ],
      "metadata": {
        "id": "qOyGwTS1LxrM",
        "colab": {
          "base_uri": "https://localhost:8080/"
        },
        "outputId": "89135794-bf3b-47ce-daaa-46a090c2c1de"
      },
      "execution_count": 29,
      "outputs": [
        {
          "output_type": "stream",
          "name": "stdout",
          "text": [
            "Loading data...\n",
            "Creating customer features...\n",
            "Calculating similarity scores...\n",
            "Generating lookalike recommendations...\n",
            "\n",
            "First few recommendations:\n",
            "  CustomerID                              Lookalikes\n",
            "0      C0001  C0023:0.9462|C0045:0.9141|C0005:0.9091\n",
            "1      C0002  C0159:0.9685|C0134:0.9301|C0133:0.9103\n",
            "2      C0003  C0195:0.9101|C0031:0.9026|C0170:0.8836\n",
            "3      C0004  C0113:0.9720|C0075:0.9682|C0017:0.9450\n",
            "4      C0005  C0007:0.9779|C0197:0.9529|C0095:0.9164\n"
          ]
        }
      ]
    }
  ]
}